{
 "cells": [
  {
   "cell_type": "code",
   "execution_count": 25,
   "id": "0ea32301",
   "metadata": {},
   "outputs": [
    {
     "name": "stdout",
     "output_type": "stream",
     "text": [
      "Qiskit version: 2.1.0\n",
      "Grader version: 0.22.9\n"
     ]
    }
   ],
   "source": [
    "import qiskit\n",
    "import qc_grader\n",
    "print(f\"Qiskit version: {qiskit.__version__}\")\n",
    "print(f\"Grader version: {qc_grader.__version__}\")"
   ]
  },
  {
   "cell_type": "code",
   "execution_count": 26,
   "id": "a99216f2",
   "metadata": {},
   "outputs": [],
   "source": [
    "your_api_key = \"QNUlQWQL_xWIjnr02CxqdlFoshyN94Ib4p1WZI74kKm9\"\n",
    "your_crn = \"crn:v1:bluemix:public:quantum-computing:us-east:a/7e46637860994aa8a43e6f360effb216:709c0a5f-fedf-4fc0-a1f6-b6ef1439cef9::\"\n",
    "\n",
    "from qiskit_ibm_runtime import QiskitRuntimeService\n",
    "\n",
    "QiskitRuntimeService.save_account(\n",
    "    channel=\"ibm_quantum_platform\",\n",
    "    token=your_api_key,\n",
    "    instance=your_crn,\n",
    "    name=\"qgss-2025\",\n",
    "    overwrite=True\n",
    ")"
   ]
  },
  {
   "cell_type": "code",
   "execution_count": 27,
   "id": "7cb33391",
   "metadata": {},
   "outputs": [
    {
     "data": {
      "text/plain": [
       "{'qgss-2025': {'channel': 'ibm_quantum_platform',\n",
       "  'url': 'https://cloud.ibm.com',\n",
       "  'token': 'QNUlQWQL_xWIjnr02CxqdlFoshyN94Ib4p1WZI74kKm9',\n",
       "  'instance': 'crn:v1:bluemix:public:quantum-computing:us-east:a/7e46637860994aa8a43e6f360effb216:709c0a5f-fedf-4fc0-a1f6-b6ef1439cef9::',\n",
       "  'verify': True,\n",
       "  'private_endpoint': False}}"
      ]
     },
     "execution_count": 27,
     "metadata": {},
     "output_type": "execute_result"
    }
   ],
   "source": [
    "# Check that the account has been saved properly\n",
    "from qiskit_ibm_runtime import QiskitRuntimeService\n",
    "\n",
    "\n",
    "service = QiskitRuntimeService(name=\"qgss-2025\")\n",
    "service.saved_accounts()"
   ]
  },
  {
   "cell_type": "code",
   "execution_count": 28,
   "id": "0b0beaa6",
   "metadata": {},
   "outputs": [],
   "source": [
    "# Essential libraries\n",
    "import numpy as np\n",
    "import matplotlib.pyplot as plt\n",
    "import ipywidgets as widgets\n",
    "from IPython.display import display\n",
    "from PIL import Image\n",
    "import io\n",
    "\n",
    "from qiskit import QuantumCircuit\n",
    "from qiskit.circuit import Parameter\n",
    "from qiskit.visualization import plot_histogram, plot_distribution\n",
    "from qiskit_ibm_runtime import Options, Session, SamplerV2 as Sampler\n",
    "from qiskit.result import marginal_distribution\n",
    "\n",
    "from qiskit.transpiler import generate_preset_pass_manager\n",
    "from qiskit_ibm_runtime import QiskitRuntimeService\n",
    "from qiskit_aer import AerSimulator\n",
    "\n",
    "from qc_grader.challenges.qgss_2025 import (\n",
    "    grade_lab1_ex1_1, \n",
    "    grade_lab1_ex1_2, \n",
    "    grade_lab1_ex1_3, \n",
    "    grade_lab1_ex1_4, \n",
    "    grade_lab1_ex2, \n",
    "    grade_lab1_ex3,\n",
    "    grade_lab1_ex4,\n",
    "    grade_lab1_ex5,\n",
    "    grade_lab1_ex6\n",
    ")"
   ]
  },
  {
   "cell_type": "markdown",
   "id": "62ec5071",
   "metadata": {},
   "source": [
    "# Ex 1."
   ]
  },
  {
   "cell_type": "markdown",
   "id": "46247851",
   "metadata": {},
   "source": []
  },
  {
   "cell_type": "code",
   "execution_count": 29,
   "id": "d0e2fb20",
   "metadata": {},
   "outputs": [
    {
     "data": {
      "image/png": "[encoded data removed]",
      "text/plain": [
       "<Figure size 294.423x200.667 with 1 Axes>"
      ]
     },
     "execution_count": 29,
     "metadata": {},
     "output_type": "execute_result"
    }
   ],
   "source": [
    "from qiskit import QuantumCircuit, QuantumRegister, ClassicalRegister\n",
    "\n",
    "qr = QuantumRegister(1, name='q')\n",
    "cr = ClassicalRegister(1, name='c_screen')\n",
    "\n",
    "double_slit = QuantumCircuit(qr, cr)\n",
    "# your code here\n",
    "\n",
    "double_slit.h(0)\n",
    "\n",
    "# end of your code\n",
    "double_slit.draw('mpl')"
   ]
  },
  {
   "cell_type": "code",
   "execution_count": 30,
   "id": "efd1cf1b",
   "metadata": {},
   "outputs": [
    {
     "name": "stdout",
     "output_type": "stream",
     "text": [
      "Submitting your answer. Please wait...\n",
      "Congratulations! 🎉 Your answer is correct.\n"
     ]
    }
   ],
   "source": [
    "# Submit your answer using the following code\n",
    "grade_lab1_ex1_1(double_slit)\n"
   ]
  },
  {
   "cell_type": "markdown",
   "id": "9118adbf",
   "metadata": {},
   "source": [
    "# Ex 2"
   ]
  },
  {
   "cell_type": "code",
   "execution_count": 31,
   "id": "38c3fecf",
   "metadata": {},
   "outputs": [
    {
     "data": {
      "image/png": "[encoded data removed]",
      "text/plain": [
       "<Figure size 461.645x200.667 with 1 Axes>"
      ]
     },
     "execution_count": 31,
     "metadata": {},
     "output_type": "execute_result"
    }
   ],
   "source": [
    "double_slit.h(0)\n",
    "double_slit.measure(0,0)\n",
    "# end of your code\n",
    "double_slit.draw('mpl')"
   ]
  },
  {
   "cell_type": "code",
   "execution_count": 32,
   "id": "dc761854",
   "metadata": {},
   "outputs": [
    {
     "name": "stdout",
     "output_type": "stream",
     "text": [
      "Submitting your answer. Please wait...\n",
      "Congratulations! 🎉 Your answer is correct.\n"
     ]
    }
   ],
   "source": [
    "# Submit your answer using the following code\n",
    "grade_lab1_ex1_2(double_slit)"
   ]
  },
  {
   "cell_type": "code",
   "execution_count": 33,
   "id": "622ae50d",
   "metadata": {},
   "outputs": [
    {
     "data": {
      "image/png": "[encoded data removed]",
      "text/plain": [
       "<Figure size 700x500 with 1 Axes>"
      ]
     },
     "execution_count": 33,
     "metadata": {},
     "output_type": "execute_result"
    }
   ],
   "source": [
    "# use simulator\n",
    "backend = AerSimulator()\n",
    "\n",
    "# make quantum circuit compatible to the backend\n",
    "pm = generate_preset_pass_manager(backend = backend, optimization_level=3)\n",
    "qc_isa = pm.run(double_slit)\n",
    "\n",
    "# run and get counts\n",
    "sampler = Sampler(mode=backend)\n",
    "counts = sampler.run([qc_isa], shots = 1000).result()[0].data.c_screen.get_counts()\n",
    "\n",
    "plot_distribution(counts)"
   ]
  },
  {
   "cell_type": "markdown",
   "id": "8ecff09f",
   "metadata": {},
   "source": [
    "# Ex 3"
   ]
  },
  {
   "cell_type": "code",
   "execution_count": 40,
   "id": "b18693f9",
   "metadata": {},
   "outputs": [
    {
     "data": {
      "image/png": "[encoded data removed]",
      "text/plain": [
       "<Figure size 545.256x200.667 with 1 Axes>"
      ]
     },
     "execution_count": 40,
     "metadata": {},
     "output_type": "execute_result"
    }
   ],
   "source": [
    "qr = QuantumRegister(1, name='q')\n",
    "cr = ClassicalRegister(1, name='c_screen')\n",
    "\n",
    "double_slit_with_difference = QuantumCircuit(qr, cr)\n",
    "double_slit_with_difference.h(0)\n",
    "\n",
    "# your code here\n",
    "double_slit_with_difference.p(np.pi/2, 0)\n",
    "# end of your code\n",
    "\n",
    "double_slit_with_difference.h(0)\n",
    "double_slit_with_difference.measure(qr, cr)\n",
    "double_slit_with_difference.draw('mpl')"
   ]
  },
  {
   "cell_type": "code",
   "execution_count": 41,
   "id": "b097d99c",
   "metadata": {},
   "outputs": [
    {
     "name": "stdout",
     "output_type": "stream",
     "text": [
      "Submitting your answer. Please wait...\n",
      "Congratulations! 🎉 Your answer is correct.\n"
     ]
    }
   ],
   "source": [
    "# Submit your answer using the following code\n",
    "grade_lab1_ex1_3(double_slit_with_difference)\n"
   ]
  },
  {
   "cell_type": "code",
   "execution_count": 42,
   "id": "2dbab7d7",
   "metadata": {},
   "outputs": [
    {
     "data": {
      "image/png": "[encoded data removed]",
      "text/plain": [
       "<Figure size 700x500 with 1 Axes>"
      ]
     },
     "execution_count": 42,
     "metadata": {},
     "output_type": "execute_result"
    }
   ],
   "source": [
    "qc_isa = pm.run(double_slit_with_difference)\n",
    "\n",
    "#run and get counts\n",
    "sampler = Sampler(mode=backend)\n",
    "counts = sampler.run([qc_isa], shots=10000).result()[0].data.c_screen.get_counts()\n",
    "plot_distribution(counts)"
   ]
  },
  {
   "cell_type": "markdown",
   "id": "f37ee8ce",
   "metadata": {},
   "source": [
    "# Ex 4"
   ]
  },
  {
   "cell_type": "code",
   "execution_count": 45,
   "id": "b5984916",
   "metadata": {},
   "outputs": [
    {
     "data": {
      "image/png": "[encoded data removed]",
      "text/plain": [
       "<Figure size 545.256x200.667 with 1 Axes>"
      ]
     },
     "execution_count": 45,
     "metadata": {},
     "output_type": "execute_result"
    }
   ],
   "source": [
    "φ = Parameter('φ')\n",
    "\n",
    "qr = QuantumRegister(1, name='q')\n",
    "cr = ClassicalRegister(1, name='c_screen')\n",
    "\n",
    "double_slit_fringe = QuantumCircuit(qr, cr)\n",
    "\n",
    "# your code here\n",
    "theta = Parameter('θ')\n",
    "double_slit_fringe.h(0)\n",
    "double_slit_fringe.p(theta, 0)\n",
    "double_slit_fringe.h(0)\n",
    "double_slit_fringe.measure(qr, cr)\n",
    "# end of your code\n",
    "\n",
    "double_slit_fringe.draw('mpl')\n"
   ]
  },
  {
   "cell_type": "code",
   "execution_count": 46,
   "id": "21181d86",
   "metadata": {},
   "outputs": [
    {
     "name": "stdout",
     "output_type": "stream",
     "text": [
      "Submitting your answer. Please wait...\n",
      "Congratulations! 🎉 Your answer is correct.\n"
     ]
    }
   ],
   "source": [
    "# Submit your answer using the following code\n",
    "grade_lab1_ex1_4(double_slit_fringe)\n"
   ]
  },
  {
   "cell_type": "code",
   "execution_count": 47,
   "id": "eab08be3",
   "metadata": {},
   "outputs": [
    {
     "data": {
      "image/png": "[encoded data removed]",
      "text/plain": [
       "<Figure size 1000x200 with 2 Axes>"
      ]
     },
     "metadata": {},
     "output_type": "display_data"
    }
   ],
   "source": [
    "φ_lst = np.linspace(-3*np.pi, 3*np.pi, 100)\n",
    "qc_isa = pm.run(double_slit_fringe)\n",
    "\n",
    "φ_hit = []\n",
    "dist = sampler.run([(qc_isa, φ_lst)], shots=1000).result()[0].data.c_screen\n",
    "\n",
    "for i  in range(len(φ_lst)):\n",
    "    result = dist[i].get_counts()\n",
    "    if '0' in result:\n",
    "        φ_hit.append(result['0']/1000)\n",
    "    else:\n",
    "        φ_hit.append(0)\n",
    "\n",
    "#plot heat map\n",
    "φ_hit_2d = np.array(φ_hit).reshape(1, -1)\n",
    "\n",
    "plt.figure(figsize=(10, 2))\n",
    "plt.imshow(φ_hit_2d, cmap='gray', aspect='auto', extent=[-3*np.pi, 3*np.pi, 0, 0.1])\n",
    "\n",
    "plt.xlabel('φ (Phase difference)', fontsize=14)\n",
    "plt.colorbar(label='prob')\n",
    "plt.xticks(ticks=[-3*np.pi, -2*np.pi, -np.pi, 0, np.pi, 2*np.pi, 3*np.pi],\n",
    "           labels=['-3π', '-2π', '-π', '0', 'π', '2π', '3π'])\n",
    "plt.yticks([])  \n",
    "plt.show()"
   ]
  },
  {
   "cell_type": "markdown",
   "id": "b090ff51",
   "metadata": {},
   "source": [
    "# Ex 5"
   ]
  },
  {
   "cell_type": "code",
   "execution_count": 48,
   "id": "b18d8fdc",
   "metadata": {},
   "outputs": [],
   "source": [
    "def schrodingers_cat_experiment_theta(theta):\n",
    "    \n",
    "    qc = QuantumCircuit(1)\n",
    "\n",
    "    #your code start here\n",
    "\n",
    "    qc.rx(theta, 0)  # Apply RX gate with angle theta to the qubit\n",
    "    \n",
    "    #end of your code\n",
    "\n",
    "    qc.measure_all()\n",
    "    \n",
    "    backend = AerSimulator()\n",
    "    pm = generate_preset_pass_manager( backend = backend, optimization_level=3)\n",
    "    qc_isa = pm.run(qc)\n",
    "\n",
    "    # Circuit compile and run, shot = 1 \n",
    "    sampler = Sampler(mode=backend)\n",
    "    counts = sampler.run([qc_isa], shots = 1).result()[0].data.meas.get_counts()\n",
    "\n",
    "    measured_state = list(counts.keys())[0] if counts else '0'  # bring measured result\n",
    "\n",
    "    if measured_state == '0':\n",
    "        cat_happy = True\n",
    "    else:\n",
    "        cat_happy = False\n",
    "\n",
    "    return cat_happy, qc"
   ]
  },
  {
   "cell_type": "code",
   "execution_count": 49,
   "id": "ff96d583",
   "metadata": {},
   "outputs": [
    {
     "name": "stdout",
     "output_type": "stream",
     "text": [
      "Submitting your answer. Please wait...\n",
      "Congratulations! 🎉 Your answer is correct.\n"
     ]
    }
   ],
   "source": [
    "# Submit your answer using the following code\n",
    "grade_lab1_ex2(schrodingers_cat_experiment_theta)"
   ]
  },
  {
   "cell_type": "code",
   "execution_count": 51,
   "id": "c7606c69",
   "metadata": {},
   "outputs": [
    {
     "data": {
      "application/vnd.jupyter.widget-view+json": {
       "model_id": "833cedb534df4b0586c9e719018f3ec1",
       "version_major": 2,
       "version_minor": 0
      },
      "text/plain": [
       "FloatSlider(value=0.0, description='θ', max=6.283185307179586, step=0.01)"
      ]
     },
     "metadata": {},
     "output_type": "display_data"
    },
    {
     "data": {
      "application/vnd.jupyter.widget-view+json": {
       "model_id": "2b54a1354ef34987966ece438bb410dd",
       "version_major": 2,
       "version_minor": 0
      },
      "text/plain": [
       "Button(button_style='success', description='Open the Box', style=ButtonStyle())"
      ]
     },
     "metadata": {},
     "output_type": "display_data"
    },
    {
     "data": {
      "application/vnd.jupyter.widget-view+json": {
       "model_id": "03202c66428746a9ae92c5861c2e33bf",
       "version_major": 2,
       "version_minor": 0
      },
      "text/plain": [
       "Output()"
      ]
     },
     "metadata": {},
     "output_type": "display_data"
    }
   ],
   "source": [
    "happy_img = Image.open('happy.png')\n",
    "grumpy_img = Image.open('grumpy.png')\n",
    "\n",
    "out = widgets.Output()\n",
    "\n",
    "slider = widgets.FloatSlider(\n",
    "    value=0,\n",
    "    min=0,\n",
    "    max=2*np.pi,\n",
    "    step=0.01,\n",
    "    description='θ',\n",
    "    continuous_update=True\n",
    ")\n",
    "\n",
    "button = widgets.Button(\n",
    "    description='Open the Box',\n",
    "    button_style='success'\n",
    ")\n",
    "    \n",
    "def on_button_click(b):\n",
    "    with out:\n",
    "        out.clear_output(wait=True)  # clean output\n",
    "\n",
    "        result = schrodingers_cat_experiment_theta(slider.value)[0]\n",
    "\n",
    "        if result==True:\n",
    "            img = happy_img\n",
    "            txt = \"happy\"\n",
    "        else:\n",
    "            img = grumpy_img\n",
    "            txt = \"grumpy\"\n",
    "\n",
    "        new_size = (400, 400)\n",
    "        resized_img = img.resize(new_size)\n",
    "        \n",
    "        buf = io.BytesIO()\n",
    "        resized_img.save(buf, format='PNG')\n",
    "        buf.seek(0)\n",
    "        probability = int(np.cos(slider.value/2)**2 * 100)\n",
    "\n",
    "        display(f\"The probability of cat is happy: {probability}%\")\n",
    "        display(f\"The observed cat is : {txt}\")\n",
    "        display(widgets.Image(value=buf.read(), format='png'))\n",
    "\n",
    "button.on_click(on_button_click)\n",
    "\n",
    "display(slider, button, out)"
   ]
  },
  {
   "cell_type": "markdown",
   "id": "26f0254d",
   "metadata": {},
   "source": [
    "# double slit wiht measurement"
   ]
  },
  {
   "cell_type": "code",
   "execution_count": 55,
   "id": "14705df1",
   "metadata": {},
   "outputs": [
    {
     "data": {
      "image/png": "[encoded data removed]",
      "text/plain": [
       "<Figure size 653.915x284.278 with 1 Axes>"
      ]
     },
     "execution_count": 55,
     "metadata": {},
     "output_type": "execute_result"
    }
   ],
   "source": [
    "qr = QuantumRegister(1, name='q')\n",
    "cr1 = ClassicalRegister(1, name='c_detector')\n",
    "cr2 = ClassicalRegister(1, name='c_screen')\n",
    "double_slit_with_detector = QuantumCircuit(qr, cr1, cr2)\n",
    "\n",
    "φ = Parameter('φ')\n",
    "\n",
    "#your code here\n",
    "\n",
    "double_slit_with_detector.h(0)\n",
    "double_slit_with_detector.measure(qr,cr1)\n",
    "double_slit_with_detector.p(φ, 0)\n",
    "double_slit_with_detector.h(0)\n",
    "double_slit_with_detector.measure(qr, cr2)\n",
    "\n",
    "\n",
    "#end of your code\n",
    "\n",
    "double_slit_with_detector.draw('mpl')"
   ]
  },
  {
   "cell_type": "code",
   "execution_count": 56,
   "id": "3e4aea10",
   "metadata": {},
   "outputs": [
    {
     "name": "stdout",
     "output_type": "stream",
     "text": [
      "Submitting your answer. Please wait...\n",
      "Congratulations! 🎉 Your answer is correct.\n"
     ]
    }
   ],
   "source": [
    "# Submit your answer using the following code\n",
    "grade_lab1_ex3(double_slit_with_detector)"
   ]
  },
  {
   "cell_type": "code",
   "execution_count": 58,
   "id": "4a4b3c10",
   "metadata": {},
   "outputs": [
    {
     "data": {
      "image/png": "[encoded data removed]",
      "text/plain": [
       "<Figure size 1000x200 with 2 Axes>"
      ]
     },
     "metadata": {},
     "output_type": "display_data"
    }
   ],
   "source": [
    "φ_lst = np.linspace(-3 * np.pi, 3 * np.pi, 100)\n",
    "qc_isa = pm.run(double_slit_with_detector)\n",
    "\n",
    "φ_hit = []\n",
    "dist = sampler.run([(qc_isa, φ_lst)], shots=1000).result()[0].data.c_screen\n",
    "\n",
    "for i  in range(len(φ_lst)):\n",
    "    result = dist[i].get_counts()\n",
    "    if '0' in result:\n",
    "        φ_hit.append(result['0']/1000)\n",
    "    else:\n",
    "        φ_hit.append(0)\n",
    "\n",
    "φ_hit_2d = np.array(φ_hit).reshape(1, -1)\n",
    "\n",
    "plt.figure(figsize=(10, 2))\n",
    "plt.imshow(φ_hit_2d, cmap='gray', aspect='auto', extent=[-3*np.pi, 3*np.pi, 0, 0.1], vmin=0, vmax=1)\n",
    "\n",
    "plt.xlabel('φ (Phase difference)', fontsize=14)\n",
    "plt.colorbar(label='prob')\n",
    "plt.xticks(ticks=[-3 * np.pi, -2 * np.pi, -np.pi, 0, np.pi, 2 * np.pi, 3 * np.pi],\n",
    "           labels=['-3π', '-2π', '-π', '0', 'π', '2π', '3π'])\n",
    "plt.yticks([])  \n",
    "plt.show()"
   ]
  },
  {
   "cell_type": "markdown",
   "id": "b0f38548",
   "metadata": {},
   "source": [
    "# Entanglement"
   ]
  },
  {
   "cell_type": "code",
   "execution_count": 62,
   "id": "f71b4a3f",
   "metadata": {},
   "outputs": [],
   "source": [
    "def create_chsh_circuit(x, y):\n",
    "    \"\"\"Builds Qiskit circuit for Alice & Bob's quantum strategy.\"\"\"\n",
    "    qc = QuantumCircuit(2, 2, name=f'CHSH_{x}{y}') # 2 qubits, 2 classical bits\n",
    "\n",
    "    # ---- TODO : Task 1 ---\n",
    "    # Implement the gates to create the Bell state |Φ+> = (|00> + |11>)/sqrt(2).\n",
    "    qc.h(0)  # Apply Hadamard gate to qubit 0\n",
    "    qc.cx(0, 1)  # Apply CNOT gate with qubit 0 as control and qubit 1 as target\n",
    "\n",
    "    # --- End of TODO ---\n",
    "    qc.barrier()\n",
    "\n",
    "    # Step 2a: Alice's measurement basis (X if x=1, Z if x=0)\n",
    "    if x == 1:\n",
    "        qc.h(0) # H for X-basis measurement\n",
    "\n",
    "    ##  --- TODO: Task 2 ----\n",
    "    # Step 2b: Bob's measurement basis\n",
    "    if y == 0:\n",
    "        qc.ry(-np.pi/4, 1)  # Bob: Ry(-π/4) for y=0\n",
    "    elif y == 1:\n",
    "        qc.ry(np.pi/4, 1)   # Bob: Ry(π/4) for y=1\n",
    "    # Bob always measures in Z-basis (default)\n",
    "    # --- End of TODO ---\n",
    "    qc.barrier()\n",
    "    \n",
    "    # Step 3: Measure\n",
    "    qc.measure([0, 1], [0, 1]) # q0 to c0 (Alice), q1 to c1 (Bob) -> 'ba' format\n",
    "\n",
    "    return qc"
   ]
  },
  {
   "cell_type": "code",
   "execution_count": 63,
   "id": "e5214a93",
   "metadata": {},
   "outputs": [
    {
     "name": "stdout",
     "output_type": "stream",
     "text": [
      "Submitting your answer. Please wait...\n",
      "Congratulations! 🎉 Your answer is correct.\n"
     ]
    }
   ],
   "source": [
    "# Submit your answer using the following code\n",
    "grade_lab1_ex4(create_chsh_circuit)"
   ]
  },
  {
   "cell_type": "code",
   "execution_count": 64,
   "id": "303c0002",
   "metadata": {},
   "outputs": [
    {
     "name": "stdout",
     "output_type": "stream",
     "text": [
      "Quantum circuit for inputs x=1, y=1 (Check your Exercises 1 & 2 implementation):\n"
     ]
    },
    {
     "data": {
      "image/png": "[encoded data removed]",
      "text/plain": [
       "<Figure size 705.35x284.278 with 1 Axes>"
      ]
     },
     "metadata": {},
     "output_type": "display_data"
    }
   ],
   "source": [
    "circuits = []\n",
    "input_pairs = []\n",
    "for x_in in [0, 1]:\n",
    "    for y_in in [0, 1]:\n",
    "        input_pairs.append((x_in, y_in))\n",
    "        circuits.append(create_chsh_circuit(x_in, y_in))\n",
    "\n",
    "print(\"Quantum circuit for inputs x=1, y=1 (Check your Exercises 1 & 2 implementation):\")\n",
    "if len(circuits) == 4:\n",
    "    display(circuits[3].draw('mpl')) # (x,y) = (1,1)\n",
    "else:\n",
    "    print(\"Circuits not generated. Run previous cell after completing Exercises 1 & 2.\")"
   ]
  },
  {
   "cell_type": "code",
   "execution_count": 72,
   "id": "243d47e3",
   "metadata": {},
   "outputs": [
    {
     "name": "stdout",
     "output_type": "stream",
     "text": [
      "Preparing circuits for the simulator...\n",
      "\n",
      "--- Simulation Results (Counts) ---\n",
      "Inputs (x=0, y=0):\n",
      "  Outcomes (ba): {'00': 432, '01': 84, '10': 76, '11': 432}\n",
      "Inputs (x=0, y=1):\n",
      "  Outcomes (ba): {'00': 401, '01': 77, '10': 90, '11': 456}\n",
      "Inputs (x=1, y=0):\n",
      "  Outcomes (ba): {'00': 426, '01': 84, '10': 70, '11': 444}\n",
      "Inputs (x=1, y=1):\n",
      "  Outcomes (ba): {'00': 75, '01': 440, '10': 430, '11': 79}\n",
      "\n",
      "Plotting results...\n"
     ]
    },
    {
     "data": {
      "image/png": "[encoded data removed]",
      "text/plain": [
       "<Figure size 640x480 with 1 Axes>"
      ]
     },
     "metadata": {},
     "output_type": "display_data"
    }
   ],
   "source": [
    "# AerSimulator (if not already defined)\n",
    "# backend = AerSimulator()\n",
    "# Pass manager (if not already defined)\n",
    "# pm = generate_preset_pass_manager(backend=backend, optimization_level=1)\n",
    "\n",
    "SHOTS = 1024\n",
    "\n",
    "print(\"Preparing circuits for the simulator...\")\n",
    "isa_qc_chsh = pm.run(circuits)\n",
    "\n",
    "sampler_chsh = Sampler(mode=backend) # SamplerV2\n",
    "job_chsh = sampler_chsh.run(isa_qc_chsh, shots=SHOTS)\n",
    "results_chsh = job_chsh.result()\n",
    "\n",
    "# SamplerV2: results_chsh[i].data.c.get_counts() where 'c' is the default name of classical register\n",
    "counts_list = [results_chsh[i].data.c.get_counts() for i in range(len(circuits))]\n",
    "\n",
    "print(\"\\n--- Simulation Results (Counts) ---\")\n",
    "for i, (x, y) in enumerate(input_pairs):\n",
    "    print(f\"Inputs (x={x}, y={y}):\")\n",
    "    sorted_counts = dict(sorted(counts_list[i].items()))\n",
    "    print(f\"  Outcomes (ba): {sorted_counts}\")\n",
    "\n",
    "print(\"\\nPlotting results...\")\n",
    "display(plot_histogram(counts_list,\n",
    "                       legend=[f'(x={x}, y={y})' for x, y in input_pairs],\n",
    "                       title='CHSH Game Outcomes (ba format)'))"
   ]
  },
  {
   "cell_type": "code",
   "execution_count": 73,
   "id": "a9fda627",
   "metadata": {},
   "outputs": [
    {
     "name": "stdout",
     "output_type": "stream",
     "text": [
      "--- Calculating Win Probabilities ---\n",
      "Inputs (x=0, y=0): Target (a XOR b) = 0. Win Probability = 0.8438\n",
      "Inputs (x=0, y=1): Target (a XOR b) = 0. Win Probability = 0.8369\n",
      "Inputs (x=1, y=0): Target (a XOR b) = 0. Win Probability = 0.8496\n",
      "Inputs (x=1, y=1): Target (a XOR b) = 1. Win Probability = 0.8496\n",
      "\n",
      "--- Overall Performance ---\n",
      "Experimental Average Win Probability: 0.8450\n",
      "Theoretical Quantum Win Probability: 0.8536\n",
      "Classical Limit Win Probability:     0.7500\n",
      "\n",
      "Success! Your result (0.8450) clearly beats the classical 75% limit!\n",
      "It's likely close to the theoretical quantum prediction of 0.8536.\n"
     ]
    }
   ],
   "source": [
    "win_probabilities = {}\n",
    "print(\"--- Calculating Win Probabilities ---\")\n",
    "\n",
    "for i, (x, y) in enumerate(input_pairs):\n",
    "    counts = counts_list[i]\n",
    "\n",
    "    # ---- TODO : Task 1 ---\n",
    "    # Target (a XOR b) value for winning\n",
    "    target_xor_result = x & y  # Winning condition: a XOR b = x XOR y\n",
    "\n",
    "\n",
    "    # --- End of TODO --\n",
    "\n",
    "    wins_for_this_case = 0\n",
    "\n",
    "    # ---- TODO : Task 2 ---\n",
    "    # Calculate the total number of shots that satisfy the winning condition determined above. Check the 'target_xor_result'\n",
    "    for outcome, num in counts.items():\n",
    "        # outcome is a 2-bit string: 'ba' (b=outcome[0], a=outcome[1])\n",
    "        a = int(outcome[1])\n",
    "        b = int(outcome[0])\n",
    "        if a ^ b == target_xor_result:\n",
    "            wins_for_this_case += num\n",
    "    \n",
    "\n",
    "\n",
    "    # --- End of TODO --\n",
    "\n",
    "    prob = wins_for_this_case / SHOTS if SHOTS > 0 else 0\n",
    "    win_probabilities[(x, y)] = prob\n",
    "    print(f\"Inputs (x={x}, y={y}): Target (a XOR b) = {target_xor_result}. Win Probability = {prob:.4f}\")\n",
    "\n",
    "avg_win_prob = sum(win_probabilities.values()) / 4.0\n",
    "P_win_quantum_theory = np.cos(np.pi / 8)**2  # ~0.8536\n",
    "P_win_classical_limit = 0.75\n",
    "\n",
    "print(\"\\n--- Overall Performance ---\")\n",
    "print(f\"Experimental Average Win Probability: {avg_win_prob:.4f}\")\n",
    "print(f\"Theoretical Quantum Win Probability: {P_win_quantum_theory:.4f}\")\n",
    "print(f\"Classical Limit Win Probability:     {P_win_classical_limit:.4f}\")\n",
    "\n",
    "if avg_win_prob > P_win_classical_limit + 0.01: # Allow for small simulation variance\n",
    "    print(f\"\\nSuccess! Your result ({avg_win_prob:.4f}) clearly beats the classical 75% limit!\")\n",
    "    print(f\"It's likely close to the theoretical quantum prediction of {P_win_quantum_theory:.4f}.\")\n",
    "elif avg_win_prob > P_win_classical_limit - 0.02 : # Could be noise or minor error\n",
    "     print(f\"\\nClose, but no cigar? Your result ({avg_win_prob:.4f}) is around the classical limit ({P_win_classical_limit:.4f}).\")\n",
    "     print(\"Check your solutions for Exercises 1-4 carefully, especially the win counting logic in Ex 4.\")\n",
    "else:\n",
    "    print(f\"\\nHmm, the result ({avg_win_prob:.4f}) is unexpectedly low, even below the classical limit.\")\n",
    "    print(\"There might be an error in Exercises 1-4. Please review your circuit and analysis code.\")"
   ]
  },
  {
   "cell_type": "code",
   "execution_count": 74,
   "id": "68621fe1",
   "metadata": {},
   "outputs": [
    {
     "name": "stdout",
     "output_type": "stream",
     "text": [
      "Submitting your answer. Please wait...\n",
      "Congratulations! 🎉 Your answer is correct.\n"
     ]
    }
   ],
   "source": [
    "# Submit your answer using the following code\n",
    "grade_lab1_ex5(counts_list, avg_win_prob)"
   ]
  },
  {
   "cell_type": "code",
   "execution_count": 75,
   "id": "b7900f14",
   "metadata": {},
   "outputs": [],
   "source": [
    "# experiment 2.2"
   ]
  },
  {
   "cell_type": "code",
   "execution_count": 95,
   "id": "526d98a4",
   "metadata": {},
   "outputs": [
    {
     "name": "stdout",
     "output_type": "stream",
     "text": [
      "Full Teleportation Circuit (Check your Exercises 1, 2, 3):\n"
     ]
    },
    {
     "data": {
      "image/png": "[encoded data removed]",
      "text/plain": [
       "<Figure size 1436.13x367.889 with 1 Axes>"
      ]
     },
     "metadata": {},
     "output_type": "display_data"
    }
   ],
   "source": [
    "# Define quantum and classical registers\n",
    "qr_tele = QuantumRegister(3, name='q')\n",
    "cr_alice_tele = ClassicalRegister(2, name='c_alice') # For Alice's measurements\n",
    "\n",
    "# For verification with statevector, we don't measure Bob's final qubit in this circuit.\n",
    "# If we were to run on hardware and verify by counts, we'd add a classical bit for Bob.\n",
    "teleport_qc = QuantumCircuit(qr_tele, cr_alice_tele, name='Teleportation')\n",
    "\n",
    "# Prepare Alice's message state |ψ> = |+> on q0\n",
    "teleport_qc.h(qr_tele[0])\n",
    "teleport_qc.barrier()\n",
    "\n",
    "# ---- TODO : Task 1 ---\n",
    "# Step 1: Create Bell pair between q1 (Alice) and q2 (Bob)\n",
    "teleport_qc.h([1])  # Apply Hadamard gate to q1\n",
    "teleport_qc.cx(qr_tele[1], qr_tele[2])\n",
    "\n",
    "\n",
    "# --- End of TODO --\n",
    "teleport_qc.barrier()\n",
    "\n",
    "# ---- TODO : Task 2 ---\n",
    "# Step 2: Alice's Bell Measurement (gates part))\n",
    "\n",
    "teleport_qc.cx(qr_tele[0], qr_tele[1])  # CNOT: q0 → q1\n",
    "teleport_qc.h(qr_tele[0])              # Hadamard on q0\n",
    "\n",
    "\n",
    "# --- End of TODO --\n",
    "teleport_qc.barrier()\n",
    "\n",
    "# Alice measures her qubits q0 and q1\n",
    "teleport_qc.measure(qr_tele[0], cr_alice_tele[0]) # q0 -> c0\n",
    "teleport_qc.measure(qr_tele[1], cr_alice_tele[1]) # q1 -> c1\n",
    "teleport_qc.barrier()\n",
    "\n",
    "# ---- TODO : Task 3 ---\n",
    "# Step 3: Bob's Conditional Corrections on q2\n",
    "\n",
    "\n",
    "with teleport_qc.if_test((cr_alice_tele[1], 1)):  # Check Alice's measurement results\n",
    "    teleport_qc.x(2)\n",
    "with teleport_qc.if_test((cr_alice_tele[0], 1)):  # Check Alice's measurement results\n",
    "    teleport_qc.z(2)\n",
    "\n",
    "\n",
    "# --- End of TODO --\n",
    "\n",
    "print(\"Full Teleportation Circuit (Check your Exercises 1, 2, 3):\")\n",
    "display(teleport_qc.draw('mpl'))"
   ]
  },
  {
   "cell_type": "code",
   "execution_count": 96,
   "id": "c6f571d0",
   "metadata": {},
   "outputs": [
    {
     "name": "stdout",
     "output_type": "stream",
     "text": [
      "Submitting your answer. Please wait...\n",
      "Congratulations! 🎉 Your answer is correct.\n"
     ]
    }
   ],
   "source": [
    "# Submit your answer using the following code\n",
    "grade_lab1_ex6(teleport_qc)"
   ]
  },
  {
   "cell_type": "code",
   "execution_count": 97,
   "id": "6cf793a1",
   "metadata": {},
   "outputs": [
    {
     "name": "stdout",
     "output_type": "stream",
     "text": [
      "Using statevector simulator...\n",
      "Running statevector simulation...\n",
      "Simulation successful.\n",
      "Statevector retrieved successfully.\n",
      "\n",
      "Visualizing final qubit states (q2 should match initial q0 state |+>):\n"
     ]
    },
    {
     "data": {
      "text/plain": [
       "'TODO'"
      ]
     },
     "metadata": {},
     "output_type": "display_data"
    }
   ],
   "source": [
    "%matplotlib inline\n",
    "\n",
    "# Use Statevector Simulator\n",
    "print(\"Using statevector simulator...\")\n",
    "sv_simulator = AerSimulator(method='statevector') # Explicitly set method for clarity\n",
    "teleport_qc_sv = teleport_qc.copy() # Work with a copy for statevector simulation\n",
    "teleport_qc_sv.save_statevector() # Save statevector at the end\n",
    "\n",
    "print(\"Running statevector simulation...\")\n",
    "job_sv = sv_simulator.run(teleport_qc_sv) # shots=1 is default for statevector\n",
    "result_sv = job_sv.result()\n",
    "\n",
    "if result_sv.success:\n",
    "    print(\"Simulation successful.\")\n",
    "    final_statevector = result_sv.get_statevector()\n",
    "    print(\"Statevector retrieved successfully.\")\n",
    "    print(\"\\nVisualizing final qubit states (q2 should match initial q0 state |+>):\")\n",
    "    # q0 was |+> (points along +X). After teleportation, q2 should be |+>.\n",
    "    # q0 and q1 states are after Alice's measurement, so they'll be collapsed.\n",
    "    \n",
    "    display(\"TODO\") #TODO, use plot_bloch_multivector to plot final_state\n",
    "        \n",
    "else:\n",
    "    print(f\"Statevector simulation failed! Status: {result_sv.status}\")"
   ]
  },
  {
   "cell_type": "code",
   "execution_count": 99,
   "id": "e47ecbbf",
   "metadata": {},
   "outputs": [
    {
     "name": "stdout",
     "output_type": "stream",
     "text": [
      "Lab 0: 0/2 exercises completed (0%)\n",
      "    ✅ 1534 participants have completed this lab\n",
      "Lab 1: 9/9 exercises completed (100%)\n",
      "    ✅ 725 participants have completed this lab\n",
      "Lab 2: 0/7 exercises completed (0%)\n",
      "    ✅ 1 participants have completed this lab\n",
      "Lab 3: 0/5 exercises completed (0%)\n",
      "    ✅ 0 participants have completed this lab\n",
      "Lab 4: 0/6 exercises completed (0%)\n",
      "    ✅ 0 participants have completed this lab\n"
     ]
    }
   ],
   "source": [
    "#Check your submission status with the code belowf\n",
    "from qc_grader.grader.grade import check_lab_completion_status\n",
    "check_lab_completion_status(\"qgss_2025\")"
   ]
  }
 ],
 "metadata": {
  "kernelspec": {
   "display_name": "qiskit-env-ss",
   "language": "python",
   "name": "python3"
  },
  "language_info": {
   "codemirror_mode": {
    "name": "ipython",
    "version": 3
   },
   "file_extension": ".py",
   "mimetype": "text/x-python",
   "name": "python",
   "nbconvert_exporter": "python",
   "pygments_lexer": "ipython3",
   "version": "3.12.6"
  }
 },
 "nbformat": 4,
 "nbformat_minor": 5
}
